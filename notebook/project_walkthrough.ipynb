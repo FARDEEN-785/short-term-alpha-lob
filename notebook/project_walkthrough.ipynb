{
 "cells": [
  {
   "cell_type": "markdown",
   "id": "1d06bade-39f4-41fd-a81a-77a61c8106b0",
   "metadata": {},
   "source": [
    "# Project: Short-Term Alpha Detection in Limit Order Books\n",
    "\n",
    "**Goal:** To investigate if predictive signals for high-frequency trading can be found in limit order book data.\n",
    "\n",
    "**Key Finding:** Markets are highly efficient. While some predictive power exists, it is not sufficient to overcome transaction costs, providing a valuable lesson in real-world quant research."
   ]
  },
  {
   "cell_type": "code",
   "execution_count": 1,
   "id": "88748119-1b78-4895-818c-d933ade8bcc7",
   "metadata": {},
   "outputs": [
    {
     "name": "stdout",
     "output_type": "stream",
     "text": [
      "✅ Data loaded successfully!\n",
      "Dataset shape: (400372, 26)\n",
      "\n",
      "First 5 rows:\n"
     ]
    },
    {
     "data": {
      "text/html": [
       "<div>\n",
       "<style scoped>\n",
       "    .dataframe tbody tr th:only-of-type {\n",
       "        vertical-align: middle;\n",
       "    }\n",
       "\n",
       "    .dataframe tbody tr th {\n",
       "        vertical-align: top;\n",
       "    }\n",
       "\n",
       "    .dataframe thead th {\n",
       "        text-align: right;\n",
       "    }\n",
       "</style>\n",
       "<table border=\"1\" class=\"dataframe\">\n",
       "  <thead>\n",
       "    <tr style=\"text-align: right;\">\n",
       "      <th></th>\n",
       "      <th>AskPrice1</th>\n",
       "      <th>AskSize1</th>\n",
       "      <th>AskPrice2</th>\n",
       "      <th>AskSize2</th>\n",
       "      <th>AskPrice3</th>\n",
       "      <th>AskSize3</th>\n",
       "      <th>AskPrice4</th>\n",
       "      <th>AskSize4</th>\n",
       "      <th>BidPrice1</th>\n",
       "      <th>BidSize1</th>\n",
       "      <th>...</th>\n",
       "      <th>MidPrice</th>\n",
       "      <th>Spread</th>\n",
       "      <th>Imbalance</th>\n",
       "      <th>MidPrice_Returns</th>\n",
       "      <th>Volatility</th>\n",
       "      <th>WeightedMid</th>\n",
       "      <th>AskSlope</th>\n",
       "      <th>BidSlope</th>\n",
       "      <th>TotalBidDepth</th>\n",
       "      <th>TotalAskDepth</th>\n",
       "    </tr>\n",
       "  </thead>\n",
       "  <tbody>\n",
       "    <tr>\n",
       "      <th>0</th>\n",
       "      <td>5869500.0</td>\n",
       "      <td>50.0</td>\n",
       "      <td>5850100.0</td>\n",
       "      <td>89.0</td>\n",
       "      <td>5870000.0</td>\n",
       "      <td>100.0</td>\n",
       "      <td>5850000.0</td>\n",
       "      <td>100.0</td>\n",
       "      <td>5871000.0</td>\n",
       "      <td>10.0</td>\n",
       "      <td>...</td>\n",
       "      <td>5870250.0</td>\n",
       "      <td>1500.0</td>\n",
       "      <td>0.773616</td>\n",
       "      <td>NaN</td>\n",
       "      <td>0.000282</td>\n",
       "      <td>5870750.0</td>\n",
       "      <td>19766.666667</td>\n",
       "      <td>1.970034e+06</td>\n",
       "      <td>2655.909937</td>\n",
       "      <td>339.0</td>\n",
       "    </tr>\n",
       "    <tr>\n",
       "      <th>1</th>\n",
       "      <td>5869500.0</td>\n",
       "      <td>50.0</td>\n",
       "      <td>5851000.0</td>\n",
       "      <td>5.0</td>\n",
       "      <td>5870000.0</td>\n",
       "      <td>100.0</td>\n",
       "      <td>5850100.0</td>\n",
       "      <td>89.0</td>\n",
       "      <td>5871000.0</td>\n",
       "      <td>10.0</td>\n",
       "      <td>...</td>\n",
       "      <td>5870250.0</td>\n",
       "      <td>1500.0</td>\n",
       "      <td>0.831581</td>\n",
       "      <td>0.0</td>\n",
       "      <td>0.000282</td>\n",
       "      <td>5870750.0</td>\n",
       "      <td>19133.333333</td>\n",
       "      <td>1.969967e+06</td>\n",
       "      <td>2653.533676</td>\n",
       "      <td>244.0</td>\n",
       "    </tr>\n",
       "    <tr>\n",
       "      <th>2</th>\n",
       "      <td>5869500.0</td>\n",
       "      <td>50.0</td>\n",
       "      <td>5851000.0</td>\n",
       "      <td>5.0</td>\n",
       "      <td>5870000.0</td>\n",
       "      <td>100.0</td>\n",
       "      <td>5850100.0</td>\n",
       "      <td>89.0</td>\n",
       "      <td>5871000.0</td>\n",
       "      <td>10.0</td>\n",
       "      <td>...</td>\n",
       "      <td>5870250.0</td>\n",
       "      <td>1500.0</td>\n",
       "      <td>0.822719</td>\n",
       "      <td>0.0</td>\n",
       "      <td>0.000282</td>\n",
       "      <td>5870750.0</td>\n",
       "      <td>19133.333333</td>\n",
       "      <td>1.969967e+06</td>\n",
       "      <td>2508.693676</td>\n",
       "      <td>244.0</td>\n",
       "    </tr>\n",
       "    <tr>\n",
       "      <th>3</th>\n",
       "      <td>5869500.0</td>\n",
       "      <td>50.0</td>\n",
       "      <td>5853000.0</td>\n",
       "      <td>150.0</td>\n",
       "      <td>5870000.0</td>\n",
       "      <td>100.0</td>\n",
       "      <td>5851000.0</td>\n",
       "      <td>5.0</td>\n",
       "      <td>5871000.0</td>\n",
       "      <td>10.0</td>\n",
       "      <td>...</td>\n",
       "      <td>5870250.0</td>\n",
       "      <td>1500.0</td>\n",
       "      <td>0.765008</td>\n",
       "      <td>0.0</td>\n",
       "      <td>0.000282</td>\n",
       "      <td>5870750.0</td>\n",
       "      <td>17500.000000</td>\n",
       "      <td>1.969900e+06</td>\n",
       "      <td>2290.835731</td>\n",
       "      <td>305.0</td>\n",
       "    </tr>\n",
       "    <tr>\n",
       "      <th>4</th>\n",
       "      <td>5869500.0</td>\n",
       "      <td>50.0</td>\n",
       "      <td>5853000.0</td>\n",
       "      <td>150.0</td>\n",
       "      <td>5870000.0</td>\n",
       "      <td>100.0</td>\n",
       "      <td>5851000.0</td>\n",
       "      <td>5.0</td>\n",
       "      <td>5871000.0</td>\n",
       "      <td>10.0</td>\n",
       "      <td>...</td>\n",
       "      <td>5870250.0</td>\n",
       "      <td>1500.0</td>\n",
       "      <td>0.760901</td>\n",
       "      <td>0.0</td>\n",
       "      <td>0.000282</td>\n",
       "      <td>5870750.0</td>\n",
       "      <td>17500.000000</td>\n",
       "      <td>1.969900e+06</td>\n",
       "      <td>2246.239479</td>\n",
       "      <td>305.0</td>\n",
       "    </tr>\n",
       "  </tbody>\n",
       "</table>\n",
       "<p>5 rows × 26 columns</p>\n",
       "</div>"
      ],
      "text/plain": [
       "   AskPrice1  AskSize1  AskPrice2  AskSize2  AskPrice3  AskSize3  AskPrice4  \\\n",
       "0  5869500.0      50.0  5850100.0      89.0  5870000.0     100.0  5850000.0   \n",
       "1  5869500.0      50.0  5851000.0       5.0  5870000.0     100.0  5850100.0   \n",
       "2  5869500.0      50.0  5851000.0       5.0  5870000.0     100.0  5850100.0   \n",
       "3  5869500.0      50.0  5853000.0     150.0  5870000.0     100.0  5851000.0   \n",
       "4  5869500.0      50.0  5853000.0     150.0  5870000.0     100.0  5851000.0   \n",
       "\n",
       "   AskSize4  BidPrice1  BidSize1  ...   MidPrice  Spread  Imbalance  \\\n",
       "0     100.0  5871000.0      10.0  ...  5870250.0  1500.0   0.773616   \n",
       "1      89.0  5871000.0      10.0  ...  5870250.0  1500.0   0.831581   \n",
       "2      89.0  5871000.0      10.0  ...  5870250.0  1500.0   0.822719   \n",
       "3       5.0  5871000.0      10.0  ...  5870250.0  1500.0   0.765008   \n",
       "4       5.0  5871000.0      10.0  ...  5870250.0  1500.0   0.760901   \n",
       "\n",
       "   MidPrice_Returns  Volatility  WeightedMid      AskSlope      BidSlope  \\\n",
       "0               NaN    0.000282    5870750.0  19766.666667  1.970034e+06   \n",
       "1               0.0    0.000282    5870750.0  19133.333333  1.969967e+06   \n",
       "2               0.0    0.000282    5870750.0  19133.333333  1.969967e+06   \n",
       "3               0.0    0.000282    5870750.0  17500.000000  1.969900e+06   \n",
       "4               0.0    0.000282    5870750.0  17500.000000  1.969900e+06   \n",
       "\n",
       "   TotalBidDepth  TotalAskDepth  \n",
       "0    2655.909937          339.0  \n",
       "1    2653.533676          244.0  \n",
       "2    2508.693676          244.0  \n",
       "3    2290.835731          305.0  \n",
       "4    2246.239479          305.0  \n",
       "\n",
       "[5 rows x 26 columns]"
      ]
     },
     "execution_count": 1,
     "metadata": {},
     "output_type": "execute_result"
    }
   ],
   "source": [
    "# Cell 2: Setup & Data Loading\n",
    "# This cell MUST be run first. It loads the data and prepares everything.\n",
    "\n",
    "import pandas as pd\n",
    "import numpy as np\n",
    "import matplotlib.pyplot as plt\n",
    "\n",
    "# Load the dataset with our engineered features\n",
    "file_path = \"data/AAPL_orderbook_features.csv\"\n",
    "orderbook = pd.read_csv(file_path)\n",
    "\n",
    "print(\"✅ Data loaded successfully!\")\n",
    "print(f\"Dataset shape: {orderbook.shape}\")\n",
    "print(\"\\nFirst 5 rows:\")\n",
    "orderbook.head()"
   ]
  },
  {
   "cell_type": "markdown",
   "id": "850b42f3-feaf-4935-859b-886f2c9bc5fd",
   "metadata": {},
   "source": [
    "## 2. Feature Engineering\n",
    "\n",
    "We have already calculated these features in `features.py`. Here are the key features we are using:\n",
    "- `MidPrice`: Average of best bid and ask.\n",
    "- `Spread`: Difference between best ask and bid (transaction cost).\n",
    "- `Imbalance`: Volume imbalance between bid/ask sides (buying/selling pressure).\n",
    "- `Volatility`: Rolling standard deviation of log returns (risk).\n",
    "- `WeightedMid`: Volume-weighted mid-price.\n",
    "- `AskSlope`, `BidSlope`: Average difference between price levels (order book shape).\n",
    "- `TotalBidDepth`, `TotalAskDepth`: Total volume at the top 4 levels."
   ]
  },
  {
   "cell_type": "code",
   "execution_count": 2,
   "id": "1c10dae3-429d-4192-8edc-ac87d9f9cd3f",
   "metadata": {},
   "outputs": [
    {
     "name": "stdout",
     "output_type": "stream",
     "text": [
      " All engineered features are present!\n"
     ]
    }
   ],
   "source": [
    "# Cell 4: Let's verify our features are present\n",
    "feature_cols = [\n",
    "    'MidPrice', 'Spread', 'Imbalance', 'Volatility',\n",
    "    'WeightedMid', 'AskSlope', 'BidSlope',\n",
    "    'TotalBidDepth', 'TotalAskDepth'\n",
    "]\n",
    "\n",
    "# Check if they exist in the DataFrame\n",
    "missing_features = [col for col in feature_cols if col not in orderbook.columns]\n",
    "if missing_features:\n",
    "    print(f\"  Missing features: {missing_features}\")\n",
    "else:\n",
    "    print(\" All engineered features are present!\")\n",
    "    orderbook[feature_cols].describe()"
   ]
  },
  {
   "cell_type": "markdown",
   "id": "0f7eb8f8-0a20-4bea-960e-253c5a7607cc",
   "metadata": {},
   "source": [
    "## 3. Defining the Prediction Target\n",
    "\n",
    "We define our target variable: the direction of the mid-price movement `N` steps into the future.\n",
    "\n",
    "We use a threshold based on the average spread to filter out moves too small to be profitable."
   ]
  },
  {
   "cell_type": "code",
   "execution_count": 3,
   "id": "2e23c1b4-b8e9-4fca-8d76-2b8bcfc014ff",
   "metadata": {},
   "outputs": [
    {
     "name": "stdout",
     "output_type": "stream",
     "text": [
      "✅ Target variable created!\n",
      "Value counts for each class:\n",
      "Target_Class\n",
      "-1    142853\n",
      " 1    134449\n",
      " 0    123060\n",
      "Name: count, dtype: int64\n"
     ]
    }
   ],
   "source": [
    "# Cell 6: Create the target variable\n",
    "N = 10  # prediction horizon\n",
    "threshold = 0.0002  # significance threshold\n",
    "\n",
    "orderbook['FutureMid'] = orderbook['MidPrice'].shift(-N)\n",
    "orderbook['Target_Regression'] = orderbook['FutureMid'] - orderbook['MidPrice']\n",
    "\n",
    "def categorize(x, threshold=threshold):\n",
    "    if x > threshold:\n",
    "        return 1\n",
    "    elif x < -threshold:\n",
    "        return -1\n",
    "    else:\n",
    "        return 0\n",
    "\n",
    "orderbook['Target_Class'] = orderbook['Target_Regression'].apply(categorize)\n",
    "orderbook = orderbook[:-N]  # Remove last N rows with NaN target\n",
    "\n",
    "print(\"✅ Target variable created!\")\n",
    "print(\"Value counts for each class:\")\n",
    "print(orderbook['Target_Class'].value_counts())"
   ]
  },
  {
   "cell_type": "markdown",
   "id": "51502d94-0f1c-45b7-9efc-185488a2ccb9",
   "metadata": {},
   "source": [
    "## 4. Modeling: Preparing the Data\n",
    "\n",
    "We follow a critical best practice to avoid data leakage:\n",
    "1. **Split** the data into training and test sets **first**.\n",
    "2. **Scale** the features using the training set's statistics.\n",
    "3. Apply scaling to the test set."
   ]
  },
  {
   "cell_type": "code",
   "execution_count": 4,
   "id": "1905b07e-39c7-4707-8136-5e05f3d16f87",
   "metadata": {},
   "outputs": [
    {
     "name": "stdout",
     "output_type": "stream",
     "text": [
      "✅ Data split and scaled correctly!\n",
      "Training set size: (320289, 9)\n",
      "Test set size: (80073, 9)\n"
     ]
    }
   ],
   "source": [
    "# Cell 8: Prepare data for modeling\n",
    "from sklearn.preprocessing import StandardScaler\n",
    "\n",
    "# Create our X and y\n",
    "X = orderbook[feature_cols].values\n",
    "y = orderbook['Target_Class'].values\n",
    "\n",
    "# Split FIRST\n",
    "split_idx = int(0.8 * len(X))\n",
    "X_train_raw, X_test_raw = X[:split_idx], X[split_idx:]\n",
    "y_train, y_test = y[:split_idx], y[split_idx:]\n",
    "\n",
    "# Scale AFTER\n",
    "scaler = StandardScaler()\n",
    "X_train_scaled = scaler.fit_transform(X_train_raw)\n",
    "X_test_scaled = scaler.transform(X_test_raw)\n",
    "\n",
    "print(\"✅ Data split and scaled correctly!\")\n",
    "print(f\"Training set size: {X_train_scaled.shape}\")\n",
    "print(f\"Test set size: {X_test_scaled.shape}\")"
   ]
  },
  {
   "cell_type": "markdown",
   "id": "e568d104-413e-4a3b-939b-ae4440c3462a",
   "metadata": {},
   "source": [
    "## 5. Modeling & Evaluation\n",
    "\n",
    "We test two models:\n",
    "1.  **Logistic Regression:** A simple, fast baseline model.\n",
    "2.  **LSTM:** A complex model designed for sequential data.\n",
    "\n",
    "Comparing the two tells us if the complexity of an LSTM is justified."
   ]
  },
  {
   "cell_type": "code",
   "execution_count": 5,
   "id": "fd64a4be-607c-4c62-9bd1-9f361c7886ef",
   "metadata": {},
   "outputs": [
    {
     "name": "stdout",
     "output_type": "stream",
     "text": [
      "Logistic Regression Accuracy: 0.3520\n"
     ]
    }
   ],
   "source": [
    "# Cell 10: Benchmark with Logistic Regression\n",
    "from sklearn.linear_model import LogisticRegression\n",
    "from sklearn.metrics import accuracy_score\n",
    "\n",
    "# Flatten the data for Logistic Regression (it doesn't handle sequences)\n",
    "X_train_flat = X_train_scaled\n",
    "X_test_flat = X_test_scaled\n",
    "\n",
    "# Train the model\n",
    "lr_model = LogisticRegression(max_iter=1000, random_state=42)\n",
    "lr_model.fit(X_train_flat, y_train)\n",
    "\n",
    "# Make predictions and evaluate\n",
    "y_pred_lr = lr_model.predict(X_test_flat)\n",
    "lr_accuracy = accuracy_score(y_test, y_pred_lr)\n",
    "\n",
    "print(f\"Logistic Regression Accuracy: {lr_accuracy:.4f}\")"
   ]
  },
  {
   "cell_type": "code",
   "execution_count": 6,
   "id": "6738275c-275c-4be6-af74-a37688f70162",
   "metadata": {},
   "outputs": [
    {
     "name": "stdout",
     "output_type": "stream",
     "text": [
      "LSTM Training Sequences: (320269, 20, 9)\n",
      "LSTM Test Sequences: (80053, 20, 9)\n"
     ]
    }
   ],
   "source": [
    "# Cell 11: Prepare Sequences for LSTM\n",
    "SEQ_LEN = 20  # Use 20 previous time steps to predict the next\n",
    "\n",
    "def create_sequences(X, y, seq_len=SEQ_LEN):\n",
    "    sequences = []\n",
    "    targets = []\n",
    "    for i in range(len(X) - seq_len):\n",
    "        sequences.append(X[i:i+seq_len])\n",
    "        targets.append(y[i+seq_len])\n",
    "    return np.array(sequences), np.array(targets)\n",
    "\n",
    "# Create sequences from the scaled data\n",
    "X_train_seq, y_train_seq = create_sequences(X_train_scaled, y_train)\n",
    "X_test_seq, y_test_seq = create_sequences(X_test_scaled, y_test)\n",
    "\n",
    "print(f\"LSTM Training Sequences: {X_train_seq.shape}\")\n",
    "print(f\"LSTM Test Sequences: {X_test_seq.shape}\")"
   ]
  },
  {
   "cell_type": "code",
   "execution_count": 7,
   "id": "cdc14229-6ab5-4f37-928b-74ae64493347",
   "metadata": {},
   "outputs": [
    {
     "name": "stderr",
     "output_type": "stream",
     "text": [
      "D:\\short-term-alpha-lob\\env\\Lib\\site-packages\\keras\\src\\layers\\rnn\\rnn.py:199: UserWarning: Do not pass an `input_shape`/`input_dim` argument to a layer. When using Sequential models, prefer using an `Input(shape)` object as the first layer in the model instead.\n",
      "  super().__init__(**kwargs)\n"
     ]
    },
    {
     "data": {
      "text/html": [
       "<pre style=\"white-space:pre;overflow-x:auto;line-height:normal;font-family:Menlo,'DejaVu Sans Mono',consolas,'Courier New',monospace\"><span style=\"font-weight: bold\">Model: \"sequential\"</span>\n",
       "</pre>\n"
      ],
      "text/plain": [
       "\u001b[1mModel: \"sequential\"\u001b[0m\n"
      ]
     },
     "metadata": {},
     "output_type": "display_data"
    },
    {
     "data": {
      "text/html": [
       "<pre style=\"white-space:pre;overflow-x:auto;line-height:normal;font-family:Menlo,'DejaVu Sans Mono',consolas,'Courier New',monospace\">┏━━━━━━━━━━━━━━━━━━━━━━━━━━━━━━━━━━━━━━┳━━━━━━━━━━━━━━━━━━━━━━━━━━━━━┳━━━━━━━━━━━━━━━━━┓\n",
       "┃<span style=\"font-weight: bold\"> Layer (type)                         </span>┃<span style=\"font-weight: bold\"> Output Shape                </span>┃<span style=\"font-weight: bold\">         Param # </span>┃\n",
       "┡━━━━━━━━━━━━━━━━━━━━━━━━━━━━━━━━━━━━━━╇━━━━━━━━━━━━━━━━━━━━━━━━━━━━━╇━━━━━━━━━━━━━━━━━┩\n",
       "│ lstm (<span style=\"color: #0087ff; text-decoration-color: #0087ff\">LSTM</span>)                          │ (<span style=\"color: #00d7ff; text-decoration-color: #00d7ff\">None</span>, <span style=\"color: #00af00; text-decoration-color: #00af00\">64</span>)                  │          <span style=\"color: #00af00; text-decoration-color: #00af00\">18,944</span> │\n",
       "├──────────────────────────────────────┼─────────────────────────────┼─────────────────┤\n",
       "│ dense (<span style=\"color: #0087ff; text-decoration-color: #0087ff\">Dense</span>)                        │ (<span style=\"color: #00d7ff; text-decoration-color: #00d7ff\">None</span>, <span style=\"color: #00af00; text-decoration-color: #00af00\">32</span>)                  │           <span style=\"color: #00af00; text-decoration-color: #00af00\">2,080</span> │\n",
       "├──────────────────────────────────────┼─────────────────────────────┼─────────────────┤\n",
       "│ dense_1 (<span style=\"color: #0087ff; text-decoration-color: #0087ff\">Dense</span>)                      │ (<span style=\"color: #00d7ff; text-decoration-color: #00d7ff\">None</span>, <span style=\"color: #00af00; text-decoration-color: #00af00\">3</span>)                   │              <span style=\"color: #00af00; text-decoration-color: #00af00\">99</span> │\n",
       "└──────────────────────────────────────┴─────────────────────────────┴─────────────────┘\n",
       "</pre>\n"
      ],
      "text/plain": [
       "┏━━━━━━━━━━━━━━━━━━━━━━━━━━━━━━━━━━━━━━┳━━━━━━━━━━━━━━━━━━━━━━━━━━━━━┳━━━━━━━━━━━━━━━━━┓\n",
       "┃\u001b[1m \u001b[0m\u001b[1mLayer (type)                        \u001b[0m\u001b[1m \u001b[0m┃\u001b[1m \u001b[0m\u001b[1mOutput Shape               \u001b[0m\u001b[1m \u001b[0m┃\u001b[1m \u001b[0m\u001b[1m        Param #\u001b[0m\u001b[1m \u001b[0m┃\n",
       "┡━━━━━━━━━━━━━━━━━━━━━━━━━━━━━━━━━━━━━━╇━━━━━━━━━━━━━━━━━━━━━━━━━━━━━╇━━━━━━━━━━━━━━━━━┩\n",
       "│ lstm (\u001b[38;5;33mLSTM\u001b[0m)                          │ (\u001b[38;5;45mNone\u001b[0m, \u001b[38;5;34m64\u001b[0m)                  │          \u001b[38;5;34m18,944\u001b[0m │\n",
       "├──────────────────────────────────────┼─────────────────────────────┼─────────────────┤\n",
       "│ dense (\u001b[38;5;33mDense\u001b[0m)                        │ (\u001b[38;5;45mNone\u001b[0m, \u001b[38;5;34m32\u001b[0m)                  │           \u001b[38;5;34m2,080\u001b[0m │\n",
       "├──────────────────────────────────────┼─────────────────────────────┼─────────────────┤\n",
       "│ dense_1 (\u001b[38;5;33mDense\u001b[0m)                      │ (\u001b[38;5;45mNone\u001b[0m, \u001b[38;5;34m3\u001b[0m)                   │              \u001b[38;5;34m99\u001b[0m │\n",
       "└──────────────────────────────────────┴─────────────────────────────┴─────────────────┘\n"
      ]
     },
     "metadata": {},
     "output_type": "display_data"
    },
    {
     "data": {
      "text/html": [
       "<pre style=\"white-space:pre;overflow-x:auto;line-height:normal;font-family:Menlo,'DejaVu Sans Mono',consolas,'Courier New',monospace\"><span style=\"font-weight: bold\"> Total params: </span><span style=\"color: #00af00; text-decoration-color: #00af00\">21,123</span> (82.51 KB)\n",
       "</pre>\n"
      ],
      "text/plain": [
       "\u001b[1m Total params: \u001b[0m\u001b[38;5;34m21,123\u001b[0m (82.51 KB)\n"
      ]
     },
     "metadata": {},
     "output_type": "display_data"
    },
    {
     "data": {
      "text/html": [
       "<pre style=\"white-space:pre;overflow-x:auto;line-height:normal;font-family:Menlo,'DejaVu Sans Mono',consolas,'Courier New',monospace\"><span style=\"font-weight: bold\"> Trainable params: </span><span style=\"color: #00af00; text-decoration-color: #00af00\">21,123</span> (82.51 KB)\n",
       "</pre>\n"
      ],
      "text/plain": [
       "\u001b[1m Trainable params: \u001b[0m\u001b[38;5;34m21,123\u001b[0m (82.51 KB)\n"
      ]
     },
     "metadata": {},
     "output_type": "display_data"
    },
    {
     "data": {
      "text/html": [
       "<pre style=\"white-space:pre;overflow-x:auto;line-height:normal;font-family:Menlo,'DejaVu Sans Mono',consolas,'Courier New',monospace\"><span style=\"font-weight: bold\"> Non-trainable params: </span><span style=\"color: #00af00; text-decoration-color: #00af00\">0</span> (0.00 B)\n",
       "</pre>\n"
      ],
      "text/plain": [
       "\u001b[1m Non-trainable params: \u001b[0m\u001b[38;5;34m0\u001b[0m (0.00 B)\n"
      ]
     },
     "metadata": {},
     "output_type": "display_data"
    },
    {
     "name": "stdout",
     "output_type": "stream",
     "text": [
      "Training LSTM...\n",
      "Epoch 1/10\n",
      "\u001b[1m4504/4504\u001b[0m \u001b[32m━━━━━━━━━━━━━━━━━━━━\u001b[0m\u001b[37m\u001b[0m \u001b[1m105s\u001b[0m 22ms/step - accuracy: 0.3851 - loss: 1.0882 - val_accuracy: 0.3756 - val_loss: 1.0896\n",
      "Epoch 2/10\n",
      "\u001b[1m4504/4504\u001b[0m \u001b[32m━━━━━━━━━━━━━━━━━━━━\u001b[0m\u001b[37m\u001b[0m \u001b[1m106s\u001b[0m 23ms/step - accuracy: 0.3957 - loss: 1.0847 - val_accuracy: 0.3741 - val_loss: 1.0907\n",
      "Epoch 3/10\n",
      "\u001b[1m4504/4504\u001b[0m \u001b[32m━━━━━━━━━━━━━━━━━━━━\u001b[0m\u001b[37m\u001b[0m \u001b[1m103s\u001b[0m 23ms/step - accuracy: 0.3991 - loss: 1.0837 - val_accuracy: 0.3789 - val_loss: 1.0900\n",
      "Epoch 4/10\n",
      "\u001b[1m4504/4504\u001b[0m \u001b[32m━━━━━━━━━━━━━━━━━━━━\u001b[0m\u001b[37m\u001b[0m \u001b[1m100s\u001b[0m 22ms/step - accuracy: 0.4002 - loss: 1.0833 - val_accuracy: 0.3826 - val_loss: 1.0894\n",
      "Epoch 5/10\n",
      "\u001b[1m4504/4504\u001b[0m \u001b[32m━━━━━━━━━━━━━━━━━━━━\u001b[0m\u001b[37m\u001b[0m \u001b[1m48s\u001b[0m 11ms/step - accuracy: 0.3990 - loss: 1.0831 - val_accuracy: 0.3849 - val_loss: 1.0877\n",
      "Epoch 6/10\n",
      "\u001b[1m4504/4504\u001b[0m \u001b[32m━━━━━━━━━━━━━━━━━━━━\u001b[0m\u001b[37m\u001b[0m \u001b[1m52s\u001b[0m 11ms/step - accuracy: 0.3991 - loss: 1.0826 - val_accuracy: 0.3860 - val_loss: 1.0881\n",
      "Epoch 7/10\n",
      "\u001b[1m4504/4504\u001b[0m \u001b[32m━━━━━━━━━━━━━━━━━━━━\u001b[0m\u001b[37m\u001b[0m \u001b[1m88s\u001b[0m 19ms/step - accuracy: 0.4023 - loss: 1.0819 - val_accuracy: 0.3870 - val_loss: 1.0861\n",
      "Epoch 8/10\n",
      "\u001b[1m4504/4504\u001b[0m \u001b[32m━━━━━━━━━━━━━━━━━━━━\u001b[0m\u001b[37m\u001b[0m \u001b[1m126s\u001b[0m 16ms/step - accuracy: 0.4037 - loss: 1.0813 - val_accuracy: 0.3820 - val_loss: 1.0881\n",
      "Epoch 9/10\n",
      "\u001b[1m4504/4504\u001b[0m \u001b[32m━━━━━━━━━━━━━━━━━━━━\u001b[0m\u001b[37m\u001b[0m \u001b[1m52s\u001b[0m 12ms/step - accuracy: 0.4048 - loss: 1.0810 - val_accuracy: 0.3859 - val_loss: 1.0865\n",
      "Epoch 10/10\n",
      "\u001b[1m4504/4504\u001b[0m \u001b[32m━━━━━━━━━━━━━━━━━━━━\u001b[0m\u001b[37m\u001b[0m \u001b[1m54s\u001b[0m 12ms/step - accuracy: 0.4049 - loss: 1.0802 - val_accuracy: 0.3885 - val_loss: 1.0868\n"
     ]
    }
   ],
   "source": [
    "# Cell 12: Build and Train the LSTM Model\n",
    "import tensorflow as tf\n",
    "from tensorflow.keras.models import Sequential\n",
    "from tensorflow.keras.layers import LSTM, Dense\n",
    "from tensorflow.keras.utils import to_categorical\n",
    "\n",
    "# Convert labels to categorical for LSTM\n",
    "y_train_cat = to_categorical(y_train_seq + 1, num_classes=3)  # map -1,0,1 to 0,1,2\n",
    "y_test_cat = to_categorical(y_test_seq + 1, num_classes=3)\n",
    "\n",
    "# Define the model\n",
    "model = Sequential([\n",
    "    LSTM(64, input_shape=(X_train_seq.shape[1], X_train_seq.shape[2]), return_sequences=False),\n",
    "    Dense(32, activation='relu'),\n",
    "    Dense(3, activation='softmax')  # 3 output neurons for our 3 classes\n",
    "])\n",
    "\n",
    "model.compile(optimizer='adam', loss='categorical_crossentropy', metrics=['accuracy'])\n",
    "model.summary()\n",
    "\n",
    "# Train the model\n",
    "print(\"Training LSTM...\")\n",
    "history = model.fit(X_train_seq, y_train_cat, epochs=10, batch_size=64,\n",
    "                    validation_split=0.1, shuffle=False, verbose=1)"
   ]
  },
  {
   "cell_type": "code",
   "execution_count": 8,
   "id": "a5f35c04-fb00-4a7e-b3ea-e72f1ce2f719",
   "metadata": {},
   "outputs": [
    {
     "name": "stdout",
     "output_type": "stream",
     "text": [
      "LSTM Test Accuracy: 0.3389\n",
      "\u001b[1m2502/2502\u001b[0m \u001b[32m━━━━━━━━━━━━━━━━━━━━\u001b[0m\u001b[37m\u001b[0m \u001b[1m10s\u001b[0m 4ms/step\n",
      "\n",
      "Model Comparison:\n",
      " - Logistic Regression Accuracy: 0.3520\n",
      " - LSTM Accuracy: 0.3389\n"
     ]
    }
   ],
   "source": [
    "# Cell 13: Evaluate the LSTM Model\n",
    "loss, accuracy = model.evaluate(X_test_seq, y_test_cat, verbose=0)\n",
    "print(f\"LSTM Test Accuracy: {accuracy:.4f}\")\n",
    "\n",
    "# Get predictions for detailed analysis\n",
    "y_pred_proba = model.predict(X_test_seq)\n",
    "y_pred_lstm = np.argmax(y_pred_proba, axis=1) - 1  # map from 0,1,2 back to -1,0,1\n",
    "\n",
    "print(f\"\\nModel Comparison:\")\n",
    "print(f\" - Logistic Regression Accuracy: {lr_accuracy:.4f}\")\n",
    "print(f\" - LSTM Accuracy: {accuracy:.4f}\")"
   ]
  },
  {
   "cell_type": "markdown",
   "id": "4f18f31f-3673-4343-9019-c069a8d09bf1",
   "metadata": {},
   "source": [
    "## 6. Analysis of Results\n",
    "\n",
    "The most important section. We interpret what the models are telling us. Accuracy alone is a poor metric; we need to see *how* the model is performing."
   ]
  },
  {
   "cell_type": "code",
   "execution_count": 9,
   "id": "54f85886-c0db-4a4d-97d9-8e6869ca2031",
   "metadata": {},
   "outputs": [
    {
     "data": {
      "image/png": "[encoded data removed]",
      "text/plain": [
       "<Figure size 640x480 with 2 Axes>"
      ]
     },
     "metadata": {},
     "output_type": "display_data"
    },
    {
     "name": "stdout",
     "output_type": "stream",
     "text": [
      "Classification Report:\n",
      "              precision    recall  f1-score   support\n",
      "\n",
      "   Down (-1)       0.41      0.15      0.22     27024\n",
      " Neutral (0)       0.53      0.06      0.10     28377\n",
      "      Up (1)       0.32      0.87      0.47     24652\n",
      "\n",
      "    accuracy                           0.34     80053\n",
      "   macro avg       0.42      0.36      0.26     80053\n",
      "weighted avg       0.43      0.34      0.25     80053\n",
      "\n",
      "Naive Baseline (always predict '0'): 0.3545\n"
     ]
    }
   ],
   "source": [
    "# Cell 15: Detailed Performance Analysis\n",
    "from sklearn.metrics import confusion_matrix, classification_report, ConfusionMatrixDisplay\n",
    "\n",
    "# 1. Confusion Matrix\n",
    "cm = confusion_matrix(y_test_seq, y_pred_lstm)\n",
    "disp = ConfusionMatrixDisplay(confusion_matrix=cm, display_labels=['Down (-1)', 'Neutral (0)', 'Up (1)'])\n",
    "disp.plot(cmap='Blues', values_format='d')\n",
    "plt.title('Confusion Matrix for LSTM Predictions')\n",
    "plt.show()\n",
    "\n",
    "# 2. Classification Report\n",
    "print(\"Classification Report:\")\n",
    "print(classification_report(y_test_seq, y_pred_lstm, target_names=['Down (-1)', 'Neutral (0)', 'Up (1)']))\n",
    "\n",
    "# 3. Compare to a naive baseline\n",
    "most_common_class = np.bincount(y_test_seq + 1).argmax() - 1  # Find if -1, 0, or 1 is most common\n",
    "naive_baseline_accuracy = np.mean(y_test_seq == most_common_class)\n",
    "print(f\"Naive Baseline (always predict '{most_common_class}'): {naive_baseline_accuracy:.4f}\")"
   ]
  },
  {
   "cell_type": "markdown",
   "id": "088abc32-599c-4540-823f-bab4c7d3d1d3",
   "metadata": {},
   "source": [
    "## 7. The Reality Check: Backtesting\n",
    "\n",
    "A model is only useful if it can be profitable. We run a backtest that simulates trading based on the model's predictions, \n",
    "incorporating a critical real-world factor: **Transaction Costs**."
   ]
  },
  {
   "cell_type": "code",
   "execution_count": null,
   "id": "b4833630-8c6e-49ba-a4b0-7c2bc3aedda8",
   "metadata": {},
   "outputs": [
    {
     "name": "stdout",
     "output_type": "stream",
     "text": [
      "Average Bid-Ask Spread (transaction cost): 483.377294\n"
     ]
    }
   ],
   "source": [
    "# Cell 17: Simple Backtest with Transaction Costs\n",
    "# Assume we trade at the mid-price but pay the spread as a cost\n",
    "average_spread = orderbook['Spread'].mean()\n",
    "print(f\"Average Bid-Ask Spread (transaction cost): {average_spread:.6f}\")\n",
    "\n",
    "# Create a DataFrame for the test set period for easier analysis\n",
    "backtest_df = pd.DataFrame({\n",
    "    'True_Label': y_test_seq,\n",
    "    'Predicted_Label': y_pred_lstm,\n",
    "    # Get the MidPrice for the time of the prediction\n",
    "    'MidPrice': [X_test_seq[i, -1, 0] for i in range(len(X_test_seq))]\n",
    "})\n",
    "\n",
    "# Calculate strategy returns\n",
    "backtest_df['Strategy_Return'] = 0.0\n",
    "for i in range(1, len(backtest_df)):\n",
    "    predicted_signal = backtest_df.iloc[i]['Predicted_Label']\n",
    "    prev_price = backtest_df.iloc[i-1]['MidPrice']\n",
    "    current_price = backtest_df.iloc[i]['MidPrice']\n",
    "    raw_return = (current_price - prev_price) / prev_price\n",
    "\n",
    "    if predicted_signal == 1:   # Predict UP -> Go Long\n",
    "        backtest_df.loc[i, 'Strategy_Return'] = raw_return\n",
    "    elif predicted_signal == -1: # Predict DOWN -> Go Short\n",
    "        backtest_df.loc[i, 'Strategy_Return'] = -raw_return\n",
    "\n",
    "# Account for trading costs: Assume we pay half the spread on every trade\n",
    "backtest_df['Position'] = backtest_df['Predicted_Label'].replace({0: 0, 1: 1, -1: -1})\n",
    "backtest_df['Trade'] = (backtest_df['Position'].diff() != 0).astype(int)\n",
    "backtest_df['Strategy_Return_Net'] = backtest_df['Strategy_Return'] - (backtest_df['Trade'] * (average_spread / 2))\n",
    "\n",
    "# Calculate cumulative returns\n",
    "backtest_df['Cumulative_Strategy_Return'] = (1 + backtest_df['Strategy_Return_Net']).cumprod()\n",
    "backtest_df['Cumulative_Buy_Hold_Return'] = (1 + backtest_df['Strategy_Return']).cumprod()  # Benchmark\n",
    "\n",
    "# Plot the equity curve\n",
    "plt.figure(figsize=(12, 6))\n",
    "plt.plot(backtest_df['Cumulative_Strategy_Return'], label='Trading Strategy (Net of Costs)', color='red')\n",
    "plt.plot(backtest_df['Cumulative_Buy_Hold_Return'], label='Buy & Hold Benchmark', color='blue', alpha=0.7)\n",
    "plt.title(\"Strategy Equity Curve: The Ultimate Test\")\n",
    "plt.xlabel(\"Time Step\")\n",
    "plt.ylabel(\"Cumulative Return\")\n",
    "plt.legend()\n",
    "plt.grid(True)\n",
    "plt.show()\n",
    "\n",
    "# Print final performance\n",
    "final_strategy_return = backtest_df['Cumulative_Strategy_Return'].iloc[-1] - 1\n",
    "final_bh_return = backtest_df['Cumulative_Buy_Hold_Return'].iloc[-1] - 1\n",
    "\n",
    "print(f\"\\nBacktest Results:\")\n",
    "print(f\"Final Strategy Return (Net of Costs): {final_strategy_return:.4%}\")\n",
    "print(f\"Final Buy & Hold Return: {final_bh_return:.4%}\")"
   ]
  },
  {
   "cell_type": "markdown",
   "id": "c4cb2b91-aa94-4e1b-9d9f-b74d22ce93a0",
   "metadata": {},
   "source": [
    "## 8. Conclusion & Lessons Learned\n",
    "\n",
    "This project was a successful investigation into market microstructure. The key takeaway is not a profitable strategy, but a deeper understanding of the challenges involved in quantitative trading.\n",
    "\n",
    "**Key Lessons:**\n",
    "1.  **Market Efficiency:** Markets are highly efficient at short time horizons. Simple signals are quickly arbitraged away.\n",
    "2.  **Rigorous Testing is Mandatory:** Avoiding data leakage and using hold-out test sets is non-negotiable for valid results.\n",
    "3.  **Simplicity First:** A simple model (Logistic Regression) served as a crucial benchmark. Complexity (LSTM) did not provide an advantage.\n",
    "4.  **Costs Are Everything:** A strategy must be tested net of transaction costs. This is the difference between theory and practice.\n",
    "\n",
    "**Skills Demonstrated:**\n",
    "- Python, Pandas, NumPy, Scikit-learn, TensorFlow/Keras\n",
    "- Financial Data Preprocessing & Feature Engineering\n",
    "- Machine Learning Model Development & Evaluation\n",
    "- Time-Series Validation & Backtesting\n",
    "- Critical Analysis and Interpretation of Results"
   ]
  },
  {
   "cell_type": "code",
   "execution_count": null,
   "id": "7beb8304-58fb-4dbb-8502-e5a723b385bf",
   "metadata": {},
   "outputs": [],
   "source": []
  }
 ],
 "metadata": {
  "kernelspec": {
   "display_name": "Python 3 (ipykernel)",
   "language": "python",
   "name": "python3"
  },
  "language_info": {
   "codemirror_mode": {
    "name": "ipython",
    "version": 3
   },
   "file_extension": ".py",
   "mimetype": "text/x-python",
   "name": "python",
   "nbconvert_exporter": "python",
   "pygments_lexer": "ipython3",
   "version": "3.13.5"
  }
 },
 "nbformat": 4,
 "nbformat_minor": 5
}
